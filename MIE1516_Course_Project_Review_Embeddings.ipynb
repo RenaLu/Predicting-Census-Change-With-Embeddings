{
  "nbformat": 4,
  "nbformat_minor": 0,
  "metadata": {
    "colab": {
      "name": "MIE1516_Course_Project_Review_Embeddings.ipynb",
      "provenance": [],
      "collapsed_sections": [],
      "toc_visible": true
    },
    "kernelspec": {
      "name": "python3",
      "display_name": "Python 3"
    },
    "accelerator": "GPU"
  },
  "cells": [
    {
      "cell_type": "markdown",
      "metadata": {
        "id": "_2xlgzCPO1aN",
        "colab_type": "text"
      },
      "source": [
        "<font color='red'>**In this notebook, all three embedding models are trained/used to generate neighbourhood specific review embeddings**</font>"
      ]
    },
    {
      "cell_type": "markdown",
      "metadata": {
        "id": "K-ujajSuDt-G",
        "colab_type": "text"
      },
      "source": [
        "# Imports and Global Variables\n"
      ]
    },
    {
      "cell_type": "code",
      "metadata": {
        "id": "6MAfDVk-Gaky",
        "colab_type": "code",
        "outputId": "856e644b-c960-4536-b10e-841cd3e28d02",
        "colab": {
          "base_uri": "https://localhost:8080/",
          "height": 194
        }
      },
      "source": [
        "!pip install pyshp\n",
        "import pickle, math, random, shapefile, shapely\n",
        "from shapely.geometry import Polygon, Point"
      ],
      "execution_count": 0,
      "outputs": [
        {
          "output_type": "stream",
          "text": [
            "Collecting pyshp\n",
            "\u001b[?25l  Downloading https://files.pythonhosted.org/packages/27/16/3bf15aa864fb77845fab8007eda22c2bd67bd6c1fd13496df452c8c43621/pyshp-2.1.0.tar.gz (215kB)\n",
            "\r\u001b[K     |█▌                              | 10kB 29.2MB/s eta 0:00:01\r\u001b[K     |███                             | 20kB 2.2MB/s eta 0:00:01\r\u001b[K     |████▋                           | 30kB 2.9MB/s eta 0:00:01\r\u001b[K     |██████                          | 40kB 2.1MB/s eta 0:00:01\r\u001b[K     |███████▋                        | 51kB 2.4MB/s eta 0:00:01\r\u001b[K     |█████████▏                      | 61kB 2.8MB/s eta 0:00:01\r\u001b[K     |██████████▋                     | 71kB 3.0MB/s eta 0:00:01\r\u001b[K     |████████████▏                   | 81kB 3.2MB/s eta 0:00:01\r\u001b[K     |█████████████▊                  | 92kB 3.6MB/s eta 0:00:01\r\u001b[K     |███████████████▏                | 102kB 3.4MB/s eta 0:00:01\r\u001b[K     |████████████████▊               | 112kB 3.4MB/s eta 0:00:01\r\u001b[K     |██████████████████▎             | 122kB 3.4MB/s eta 0:00:01\r\u001b[K     |███████████████████▉            | 133kB 3.4MB/s eta 0:00:01\r\u001b[K     |█████████████████████▎          | 143kB 3.4MB/s eta 0:00:01\r\u001b[K     |██████████████████████▉         | 153kB 3.4MB/s eta 0:00:01\r\u001b[K     |████████████████████████▍       | 163kB 3.4MB/s eta 0:00:01\r\u001b[K     |█████████████████████████▉      | 174kB 3.4MB/s eta 0:00:01\r\u001b[K     |███████████████████████████▍    | 184kB 3.4MB/s eta 0:00:01\r\u001b[K     |█████████████████████████████   | 194kB 3.4MB/s eta 0:00:01\r\u001b[K     |██████████████████████████████▍ | 204kB 3.4MB/s eta 0:00:01\r\u001b[K     |████████████████████████████████| 215kB 3.4MB/s eta 0:00:01\r\u001b[K     |████████████████████████████████| 225kB 3.4MB/s \n",
            "\u001b[?25hBuilding wheels for collected packages: pyshp\n",
            "  Building wheel for pyshp (setup.py) ... \u001b[?25l\u001b[?25hdone\n",
            "  Created wheel for pyshp: filename=pyshp-2.1.0-cp36-none-any.whl size=32609 sha256=7adc4b631711eabe923efd9535556ee2b2b23e6f73fb3a122a1e6da301225f51\n",
            "  Stored in directory: /root/.cache/pip/wheels/a6/0c/de/321b5192ad416b328975a2f0385f72c64db4656501eba7cc1a\n",
            "Successfully built pyshp\n",
            "Installing collected packages: pyshp\n",
            "Successfully installed pyshp-2.1.0\n"
          ],
          "name": "stdout"
        }
      ]
    },
    {
      "cell_type": "code",
      "metadata": {
        "id": "GbJf8T2qD1na",
        "colab_type": "code",
        "outputId": "25b1224c-d010-4204-f1c4-e5aea2b5da0c",
        "colab": {
          "base_uri": "https://localhost:8080/",
          "height": 34
        }
      },
      "source": [
        "import pandas as pd\n",
        "import numpy as np\n",
        "import matplotlib.pyplot as plt\n",
        "from pathlib import Path\n",
        "from ast import literal_eval\n",
        "from collections import defaultdict\n",
        "from tqdm.notebook import tqdm\n",
        "from sklearn.feature_extraction.text import TfidfTransformer\n",
        "from sklearn.model_selection import train_test_split\n",
        "from sklearn.preprocessing import normalize\n",
        "\n",
        "from scipy import sparse\n",
        "import spacy\n",
        "\n",
        "import torch\n",
        "import torch.nn as nn\n",
        "from torch import optim\n",
        "import torch.nn.functional as F\n",
        "import string\n",
        "import random\n",
        "import torch.utils.data as Data\n",
        "from torchtext.data import Field, BucketIterator\n",
        "from torchtext import data\n",
        "\n",
        "from collections import OrderedDict\n",
        "import locale\n",
        "from locale import atof, atoi\n",
        "locale.setlocale(locale.LC_NUMERIC, '')"
      ],
      "execution_count": 1,
      "outputs": [
        {
          "output_type": "execute_result",
          "data": {
            "text/plain": [
              "'en_US.UTF-8'"
            ]
          },
          "metadata": {
            "tags": []
          },
          "execution_count": 1
        }
      ]
    },
    {
      "cell_type": "code",
      "metadata": {
        "id": "AtVwaBN9aWYE",
        "colab_type": "code",
        "colab": {}
      },
      "source": [
        "!pip install pytorch-ignite"
      ],
      "execution_count": 0,
      "outputs": []
    },
    {
      "cell_type": "code",
      "metadata": {
        "id": "PRjPsVfnaYST",
        "colab_type": "code",
        "colab": {}
      },
      "source": [
        "from ignite.handlers import ModelCheckpoint, EarlyStopping, TerminateOnNan\n",
        "from ignite.engine import Engine, Events\n",
        "from ignite.metrics import Accuracy, Loss, RunningAverage\n",
        "from ignite.handlers import ModelCheckpoint, EarlyStopping\n",
        "from ignite.contrib.handlers import ProgressBar"
      ],
      "execution_count": 0,
      "outputs": []
    },
    {
      "cell_type": "code",
      "metadata": {
        "id": "yHmsk9rNL_gm",
        "colab_type": "code",
        "outputId": "79a6ce16-02b6-47e7-c8af-7261468d98c3",
        "colab": {
          "base_uri": "https://localhost:8080/",
          "height": 70
        }
      },
      "source": [
        "from nltk.tokenize import sent_tokenize\n",
        "import nltk\n",
        "nltk.download('punkt')"
      ],
      "execution_count": 0,
      "outputs": [
        {
          "output_type": "stream",
          "text": [
            "[nltk_data] Downloading package punkt to /root/nltk_data...\n",
            "[nltk_data]   Unzipping tokenizers/punkt.zip.\n"
          ],
          "name": "stdout"
        },
        {
          "output_type": "execute_result",
          "data": {
            "text/plain": [
              "True"
            ]
          },
          "metadata": {
            "tags": []
          },
          "execution_count": 2
        }
      ]
    },
    {
      "cell_type": "code",
      "metadata": {
        "id": "wBzBYsqc1OAw",
        "colab_type": "code",
        "outputId": "88632925-9ca6-4d8e-c46f-3d2cf04f9f8d",
        "colab": {
          "base_uri": "https://localhost:8080/",
          "height": 125
        }
      },
      "source": [
        "from google.colab import drive\n",
        "drive.mount('/content/drive')"
      ],
      "execution_count": 0,
      "outputs": [
        {
          "output_type": "stream",
          "text": [
            "Go to this URL in a browser: https://accounts.google.com/o/oauth2/auth?client_id=947318989803-6bn6qk8qdgf4n4g3pfee6491hc0brc4i.apps.googleusercontent.com&redirect_uri=urn%3aietf%3awg%3aoauth%3a2.0%3aoob&response_type=code&scope=email%20https%3a%2f%2fwww.googleapis.com%2fauth%2fdocs.test%20https%3a%2f%2fwww.googleapis.com%2fauth%2fdrive%20https%3a%2f%2fwww.googleapis.com%2fauth%2fdrive.photos.readonly%20https%3a%2f%2fwww.googleapis.com%2fauth%2fpeopleapi.readonly\n",
            "\n",
            "Enter your authorization code:\n",
            "··········\n",
            "Mounted at /content/drive\n"
          ],
          "name": "stdout"
        }
      ]
    },
    {
      "cell_type": "code",
      "metadata": {
        "id": "inptwleJEEm4",
        "colab_type": "code",
        "colab": {}
      },
      "source": [
        "use_idf = True\n",
        "max_features = 2**10\n",
        "pca_components = 2**4\n",
        "ngram_range = (1,2)\n",
        "min_df = 100\n",
        "DRIVE_PATH = Path('/content/drive/My Drive/Thesis2019/')\n",
        "BUSINESS_DATA_PATH = Path('businesses_final.csv')\n",
        "NEIGHBOURHOOD_SHAPEFILE_PATH = \"neighbourhoods_wgs84/NEIGHBORHOODS_WGS84\"\n",
        "REVIEWS_PATH = ('reviews.csv')\n",
        "use_cuda = True\n",
        "years = [2011, 2016]\n",
        "\n",
        "EMBEDDING_DIM = 50\n",
        "VALIDATION_SPLIT = 0.3"
      ],
      "execution_count": 0,
      "outputs": []
    },
    {
      "cell_type": "markdown",
      "metadata": {
        "id": "mfSQRvNqEtFQ",
        "colab_type": "text"
      },
      "source": [
        "# Data Cleaning and Preprocessing"
      ]
    },
    {
      "cell_type": "markdown",
      "metadata": {
        "id": "i6PyyhhQE3cP",
        "colab_type": "text"
      },
      "source": [
        "## TF-IDF Autoencoder"
      ]
    },
    {
      "cell_type": "markdown",
      "metadata": {
        "id": "8mOUXLzsHG-9",
        "colab_type": "text"
      },
      "source": [
        "### For Autoencoder training"
      ]
    },
    {
      "cell_type": "markdown",
      "metadata": {
        "id": "1pJqlFuKFR-8",
        "colab_type": "text"
      },
      "source": [
        "The datasets loaded in this section are pre-cleaned as described under section 4.2. in the report. \n",
        "\n",
        "Reference: https://github.com/alexwolson/uem_projects/blob/master/notebooks/Autoencoders/MAIN_LSA_Neighbourhoods.ipynb"
      ]
    },
    {
      "cell_type": "code",
      "metadata": {
        "id": "_veQHXLFCUZE",
        "colab_type": "code",
        "colab": {}
      },
      "source": [
        "bf_text = pd.read_csv(Path.joinpath(DATA_DIR,'business_text_stripped_all.csv')).dropna()\n",
        "uf_text = pd.read_csv(Path.joinpath(DATA_DIR,'user_text_stripped_all.csv')).dropna()\n",
        "nf_text = pd.read_csv(Path.joinpath(DATA_DIR,'neighborhood_text_stripped_all.csv')).dropna()\n",
        "rf_text = pd.read_csv(Path.joinpath(DATA_DIR,'text_stripped_all.csv')).dropna()"
      ],
      "execution_count": 0,
      "outputs": []
    },
    {
      "cell_type": "code",
      "metadata": {
        "id": "ADyPqobqC3Xb",
        "colab_type": "code",
        "colab": {}
      },
      "source": [
        "alldocs = list(bf_text['text'].values) + list(uf_text['text'].values) + list(nf_text['text'].values) + list(rf_text['text'].values)\n",
        "\n",
        "bids = list(bf_text['business'].values)\n",
        "uids = list(uf_text['user'].values)\n",
        "nids = list(nf_text['neighborhood'].values)"
      ],
      "execution_count": 0,
      "outputs": []
    },
    {
      "cell_type": "code",
      "metadata": {
        "id": "_v480U9xCYNQ",
        "colab_type": "code",
        "outputId": "90ee3004-4fb6-4ac6-f981-5bda6b8a2adf",
        "colab": {
          "base_uri": "https://localhost:8080/",
          "height": 71
        }
      },
      "source": [
        "# Build Count Vector\n",
        "p = DRIVE_PATH.joinpath('models/vectorizer.pickle')\n",
        "if p.exists():\n",
        "    with open(p,'rb') as f:\n",
        "        vectorizer = pickle.load(f)\n",
        "    vector_words = vectorizer.transform(alldocs)\n",
        "else:\n",
        "    vectorizer = CountVectorizer(strip_accents='ascii', \n",
        "                                 stop_words='english', \n",
        "                                 ngram_range=ngram_range,\n",
        "                                 min_df=min_df,\n",
        "                                 max_features=max_features\n",
        "                                )\n",
        "    vector_words = vectorizer.fit_transform(alldocs)\n",
        "    with open(str(DRIVE_PATH.joinpath('models/vectorizer.pickle')),'wb') as f:\n",
        "        pickle.dump(vectorizer,f)\n",
        "words = vectorizer.get_feature_names()"
      ],
      "execution_count": 0,
      "outputs": [
        {
          "output_type": "stream",
          "text": [
            "/usr/local/lib/python3.6/dist-packages/sklearn/base.py:318: UserWarning: Trying to unpickle estimator CountVectorizer from version 0.21.3 when using version 0.22.1. This might lead to breaking code or invalid results. Use at your own risk.\n",
            "  UserWarning)\n"
          ],
          "name": "stderr"
        }
      ]
    },
    {
      "cell_type": "code",
      "metadata": {
        "id": "bAneE2X2EhVO",
        "colab_type": "code",
        "colab": {}
      },
      "source": [
        "# Store feature/word names\n",
        "with open(DRIVE_PATH.joinpath('models/words.out'), \"w\") as txt_file:\n",
        "    for word in words:\n",
        "        txt_file.write(word + \"\\n\")"
      ],
      "execution_count": 0,
      "outputs": []
    },
    {
      "cell_type": "code",
      "metadata": {
        "id": "dmBpEXHEIre_",
        "colab_type": "code",
        "colab": {}
      },
      "source": [
        "# Build TF-IDF Vector\n",
        "if use_idf:\n",
        "    p = DRIVE_PATH.joinpath('models/tfidftransformer.pickle')\n",
        "    if p.exists():\n",
        "        with open(p,'rb') as f:\n",
        "            transformer = pickle.load(f)\n",
        "    else:\n",
        "        transformer = TfidfTransformer(use_idf=True)\n",
        "        transformer = transformer.fit(vector_words)\n",
        "        with open(p,'wb') as f:\n",
        "            pickle.dump(transformer,f)\n",
        "\n",
        "transform = lambda x: normalize(\n",
        "    transformer.transform(\n",
        "        vectorizer.transform(\n",
        "            x.text.values\n",
        "        )\n",
        "    ),\n",
        "    norm='l1',\n",
        "    axis=1)"
      ],
      "execution_count": 0,
      "outputs": []
    },
    {
      "cell_type": "code",
      "metadata": {
        "id": "f6NPTZsHZqls",
        "colab_type": "code",
        "colab": {}
      },
      "source": [
        "bf_vecs = transform(bf_text)\n",
        "uf_vecs = transform(uf_text)\n",
        "nf_vecs = transform(nf_text)\n",
        "rf_vecs = transform(rf_text)"
      ],
      "execution_count": 0,
      "outputs": []
    },
    {
      "cell_type": "code",
      "metadata": {
        "id": "IW5IC6qlaSRU",
        "colab_type": "code",
        "colab": {}
      },
      "source": [
        "# Create dataset wrapper for PyTorch\n",
        "class ReviewsVector(Data.Dataset):\n",
        "    \"\"\"Reviews Vector dataset.\"\"\"\n",
        "\n",
        "    def __init__(self, data):\n",
        "        \"\"\"\n",
        "        Args: \n",
        "          data\n",
        "\n",
        "        \"\"\"\n",
        "        self.shape = data.shape\n",
        "        self.data = torch.tensor(data).type(torch.FloatTensor)\n",
        "        if use_cuda and torch.cuda.is_available():\n",
        "          self.data = self.data.cuda()\n",
        "\n",
        "    def __len__(self):\n",
        "        return len(self.data)\n",
        "\n",
        "    def __getitem__(self, idx):\n",
        "        return self.data[idx]"
      ],
      "execution_count": 0,
      "outputs": []
    },
    {
      "cell_type": "code",
      "metadata": {
        "id": "PvGLzjc1YdN2",
        "colab_type": "code",
        "colab": {}
      },
      "source": [
        "train_vals = sparse.vstack([rf_vecs, bf_vecs, uf_vecs]).todense()\n",
        "neighborhoods_real = np.array(nf_vecs.todense())\n",
        "train_data = ReviewsVector(train_vals)\n",
        "val_data = ReviewsVector(neighborhoods_real)"
      ],
      "execution_count": 0,
      "outputs": []
    },
    {
      "cell_type": "code",
      "metadata": {
        "id": "tWHSKy5nYhtg",
        "colab_type": "code",
        "colab": {}
      },
      "source": [
        "del train_vals\n",
        "del neighborhoods_real"
      ],
      "execution_count": 0,
      "outputs": []
    },
    {
      "cell_type": "markdown",
      "metadata": {
        "id": "2NAb1sUgHMNC",
        "colab_type": "text"
      },
      "source": [
        "### For census change prediction"
      ]
    },
    {
      "cell_type": "markdown",
      "metadata": {
        "id": "t0UYvGXcHUHY",
        "colab_type": "text"
      },
      "source": [
        "For census change prediction, the reviews need to be separated by years, and aggregated by neighbourhoods. All reviews in businesses that fall under a neighbourhood's geographical region will be concatenated together.  "
      ]
    },
    {
      "cell_type": "code",
      "metadata": {
        "id": "NmdL7x1AHVgq",
        "colab_type": "code",
        "colab": {}
      },
      "source": [
        "# select reviews in English only, and store only necessary data\n",
        "reviews = pd.read_csv(DRIVE_PATH.joinpath(REVIEWS_PATH))\n",
        "cleaned_reviews = reviews[reviews['review_language']=='en'][['business_id', 'review_text', 'Year']]\n",
        "cleaned_reviews.to_csv(DRIVE_PATH.joinpath('cleaned_reviews.csv'), index=False)\n",
        "\n",
        "del reviews\n",
        "del cleaned_reviews"
      ],
      "execution_count": 0,
      "outputs": []
    },
    {
      "cell_type": "code",
      "metadata": {
        "id": "VQslRRDWHmrq",
        "colab_type": "code",
        "colab": {}
      },
      "source": [
        "# function for concatenating reviews\n",
        "def concat_reviews(x):\n",
        "  try:\n",
        "    return '\\n\\n'.join(x)\n",
        "  except:\n",
        "    return ''"
      ],
      "execution_count": 0,
      "outputs": []
    },
    {
      "cell_type": "code",
      "metadata": {
        "id": "DFUSbKZXH0sv",
        "colab_type": "code",
        "colab": {}
      },
      "source": [
        "# Concatentate reviews first by business and year\n",
        "alldocs = {}\n",
        "busids = {}\n",
        "for year in years:\n",
        "  reviews_in_year = reviews[reviews['Year']==year]\n",
        "  b_reviews = reviews_in_year[['business_id', 'review_text']].groupby('business_id')['review_text'].apply(concat_reviews).reset_index()\n",
        "  b_reviews.drop_duplicates(inplace=True)\n",
        "  alldocs[year] = list(b_reviews['review_text'].values)\n",
        "  busids[year] = list(b_reviews['business_id'].values)"
      ],
      "execution_count": 0,
      "outputs": []
    },
    {
      "cell_type": "code",
      "metadata": {
        "id": "O5lvHMtafi3E",
        "colab_type": "code",
        "outputId": "8e836161-8f54-450e-e33c-86d411bf39a1",
        "colab": {
          "base_uri": "https://localhost:8080/",
          "height": 34
        }
      },
      "source": [
        "# Put businesses into their corresponding neighbourhoods\n",
        "# Reference: https://github.com/alexwolson/uem_projects/blob/master/notebooks/Autoencoders/MAIN_LSA_Neighbourhoods.ipynb\n",
        "bf = pd.read_csv(DRIVE_PATH.joinpath(BUSINESS_DATA_PATH))\n",
        "sf = shapefile.Reader(str(DRIVE_PATH)+'/'+NEIGHBOURHOOD_SHAPEFILE_PATH)\n",
        "d = {}\n",
        "for shape in sf.iterShapeRecords():\n",
        "    d[shape.record.AREA_NAME] = Polygon(shape.shape.points)\n",
        "\n",
        "pcabids = []\n",
        "    \n",
        "n2bid = defaultdict(list)\n",
        "\n",
        "for bid,loc in tqdm(bf[['id','coordinates']].values):\n",
        "    loc = literal_eval(loc)\n",
        "    if loc['longitude'] is not None and loc['latitude'] is not None:\n",
        "        p = Point(loc['longitude'],loc['latitude'])\n",
        "        for k,v in d.items():\n",
        "            if v.contains(p):\n",
        "                n2bid[k].append(bid)"
      ],
      "execution_count": 0,
      "outputs": [
        {
          "output_type": "stream",
          "text": [
            "100%|██████████| 32123/32123 [00:29<00:00, 1091.61it/s]\n"
          ],
          "name": "stderr"
        }
      ]
    },
    {
      "cell_type": "code",
      "metadata": {
        "id": "ewX_qPGOusgP",
        "colab_type": "code",
        "colab": {}
      },
      "source": [
        "# Create neighbourhood representation for each year\n",
        "all_neighbourhoodcounts = {}\n",
        "\n",
        "for year in years:\n",
        "  neighbourhoodcounts = {}\n",
        "  docs = alldocs[year]\n",
        "  busid = busids[year]\n",
        "  for k,v in tqdm(n2bid.items(),total=len(n2bid.keys())):\n",
        "      total = ''\n",
        "      for bid in v:\n",
        "          if bid in busid:\n",
        "              total += docs[busid.index(bid)] + '\\n'\n",
        "      neighbourhoodcounts[k] = total\n",
        "\n",
        "  all_neighbourhoodcounts[year] = neighbourhoodcounts"
      ],
      "execution_count": 0,
      "outputs": []
    },
    {
      "cell_type": "code",
      "metadata": {
        "id": "tWd0HvyQLcP-",
        "colab_type": "code",
        "colab": {}
      },
      "source": [
        "all_n_reviews = {}\n",
        "for year in years:\n",
        "    all_n_reviews[year] = pd.DataFrame(pd.Series(all_neighbourhoodcounts[year])).sort_index()"
      ],
      "execution_count": 0,
      "outputs": []
    },
    {
      "cell_type": "code",
      "metadata": {
        "id": "ggTH2RwjLig3",
        "colab_type": "code",
        "colab": {}
      },
      "source": [
        "Xs = {}\n",
        "\n",
        "for year in years:\n",
        "  Xs[year] = transform(all_n_reviews[year])"
      ],
      "execution_count": 0,
      "outputs": []
    },
    {
      "cell_type": "code",
      "metadata": {
        "id": "lrFUR_iILkOt",
        "colab_type": "code",
        "colab": {}
      },
      "source": [
        "reviews_all = {}\n",
        "\n",
        "for year in years:\n",
        "  reviews_all[year] = pd.DataFrame(Xs[year].todense()).T\n",
        "  reviews_all[year].to_csv(str(DRIVE_PATH)+'/neighbourhood_reviews_'+str(year)+'.csv')"
      ],
      "execution_count": 0,
      "outputs": []
    },
    {
      "cell_type": "markdown",
      "metadata": {
        "id": "Whjw-xuyLxKA",
        "colab_type": "text"
      },
      "source": [
        "## RNN"
      ]
    },
    {
      "cell_type": "markdown",
      "metadata": {
        "id": "OiXP7Kwqgoif",
        "colab_type": "text"
      },
      "source": [
        "### Synthetic dataset for testing model\n",
        "\n",
        "Randomly generate sentences from vocabulary lists"
      ]
    },
    {
      "cell_type": "code",
      "metadata": {
        "id": "dBEDbrpTgrot",
        "colab_type": "code",
        "colab": {}
      },
      "source": [
        "vocabs1 = [['i', 'we', 'they', 'you', 'he', 'she'],\n",
        "           ['', \"don't\"],\n",
        "          ['really', 'very', 'a little', 'extremely'],\n",
        "          ['like', 'hate', 'love', 'dislike'],\n",
        "          ['restaurant', 'service', 'food', 'drink', 'server']]\n",
        "vocabs2 = [['this', 'that', 'here'],\n",
        "           ['is', \"isn't\"],\n",
        "           ['really', 'very', 'a little', 'extremely'],\n",
        "           ['bad', 'good', 'tasty', 'nice', 'horrible']]\n",
        "\n",
        "sents = []\n",
        "\n",
        "for i in range(500):\n",
        "  sent = ''\n",
        "  for l in vocabs1:\n",
        "    n = len(l)\n",
        "    sent += l[np.random.randint(n)] + ' '\n",
        "  sent += '.'\n",
        "  sents.append(sent)\n"
      ],
      "execution_count": 0,
      "outputs": []
    },
    {
      "cell_type": "code",
      "metadata": {
        "id": "ofHpkwUbjUBC",
        "colab_type": "code",
        "colab": {}
      },
      "source": [
        "for i in range(500):\n",
        "  sent = ''\n",
        "  for l in vocabs2:\n",
        "    n = len(l)\n",
        "    sent += l[np.random.randint(n)] + ' '\n",
        "  sent += '.'\n",
        "  sents.append(sent)"
      ],
      "execution_count": 0,
      "outputs": []
    },
    {
      "cell_type": "code",
      "metadata": {
        "id": "7_jZZDTUjn3m",
        "colab_type": "code",
        "colab": {}
      },
      "source": [
        "df = pd.DataFrame(data=sents, columns=['review_text'])"
      ],
      "execution_count": 0,
      "outputs": []
    },
    {
      "cell_type": "code",
      "metadata": {
        "id": "zO8MYz_cjydV",
        "colab_type": "code",
        "colab": {}
      },
      "source": [
        "df.to_csv(DRIVE_PATH.joinpath('synthetic.csv'), index=False)"
      ],
      "execution_count": 0,
      "outputs": []
    },
    {
      "cell_type": "code",
      "metadata": {
        "id": "UapThXzh1UWN",
        "colab_type": "code",
        "outputId": "0a29a4fc-7f1d-437b-b700-192f89e26e6c",
        "colab": {
          "base_uri": "https://localhost:8080/",
          "height": 406
        }
      },
      "source": [
        "pd.read_csv(DRIVE_PATH.joinpath('synthetic.csv'))"
      ],
      "execution_count": 0,
      "outputs": [
        {
          "output_type": "execute_result",
          "data": {
            "text/html": [
              "<div>\n",
              "<style scoped>\n",
              "    .dataframe tbody tr th:only-of-type {\n",
              "        vertical-align: middle;\n",
              "    }\n",
              "\n",
              "    .dataframe tbody tr th {\n",
              "        vertical-align: top;\n",
              "    }\n",
              "\n",
              "    .dataframe thead th {\n",
              "        text-align: right;\n",
              "    }\n",
              "</style>\n",
              "<table border=\"1\" class=\"dataframe\">\n",
              "  <thead>\n",
              "    <tr style=\"text-align: right;\">\n",
              "      <th></th>\n",
              "      <th>review_text</th>\n",
              "    </tr>\n",
              "  </thead>\n",
              "  <tbody>\n",
              "    <tr>\n",
              "      <th>0</th>\n",
              "      <td>you don't very love server .</td>\n",
              "    </tr>\n",
              "    <tr>\n",
              "      <th>1</th>\n",
              "      <td>she  very dislike service .</td>\n",
              "    </tr>\n",
              "    <tr>\n",
              "      <th>2</th>\n",
              "      <td>we don't a little dislike drink .</td>\n",
              "    </tr>\n",
              "    <tr>\n",
              "      <th>3</th>\n",
              "      <td>you don't very like server .</td>\n",
              "    </tr>\n",
              "    <tr>\n",
              "      <th>4</th>\n",
              "      <td>we don't extremely love server .</td>\n",
              "    </tr>\n",
              "    <tr>\n",
              "      <th>...</th>\n",
              "      <td>...</td>\n",
              "    </tr>\n",
              "    <tr>\n",
              "      <th>995</th>\n",
              "      <td>this is really tasty .</td>\n",
              "    </tr>\n",
              "    <tr>\n",
              "      <th>996</th>\n",
              "      <td>that is extremely bad .</td>\n",
              "    </tr>\n",
              "    <tr>\n",
              "      <th>997</th>\n",
              "      <td>here isn't really bad .</td>\n",
              "    </tr>\n",
              "    <tr>\n",
              "      <th>998</th>\n",
              "      <td>this is extremely tasty .</td>\n",
              "    </tr>\n",
              "    <tr>\n",
              "      <th>999</th>\n",
              "      <td>this is extremely nice .</td>\n",
              "    </tr>\n",
              "  </tbody>\n",
              "</table>\n",
              "<p>1000 rows × 1 columns</p>\n",
              "</div>"
            ],
            "text/plain": [
              "                           review_text\n",
              "0         you don't very love server .\n",
              "1          she  very dislike service .\n",
              "2    we don't a little dislike drink .\n",
              "3         you don't very like server .\n",
              "4     we don't extremely love server .\n",
              "..                                 ...\n",
              "995             this is really tasty .\n",
              "996            that is extremely bad .\n",
              "997            here isn't really bad .\n",
              "998          this is extremely tasty .\n",
              "999           this is extremely nice .\n",
              "\n",
              "[1000 rows x 1 columns]"
            ]
          },
          "metadata": {
            "tags": []
          },
          "execution_count": 37
        }
      ]
    },
    {
      "cell_type": "markdown",
      "metadata": {
        "id": "LzS6HoJaqQoQ",
        "colab_type": "text"
      },
      "source": [
        "### Breakdown reviews into sentences"
      ]
    },
    {
      "cell_type": "markdown",
      "metadata": {
        "id": "TG4Fn-hRWCox",
        "colab_type": "text"
      },
      "source": [
        "Break reviews down into individual sentences for training."
      ]
    },
    {
      "cell_type": "code",
      "metadata": {
        "id": "gqUOW7xWqP7u",
        "colab_type": "code",
        "colab": {}
      },
      "source": [
        "cleaned_reviews = pd.read_csv(DRIVE_PATH.joinpath('cleaned_reviews.csv'))"
      ],
      "execution_count": 0,
      "outputs": []
    },
    {
      "cell_type": "code",
      "metadata": {
        "id": "3Jcijh57rSnr",
        "colab_type": "code",
        "outputId": "4343c0ab-e698-495f-e7f1-58861fb24455",
        "colab": {
          "base_uri": "https://localhost:8080/",
          "height": 90
        }
      },
      "source": [
        "sent_tokenize(cleaned_reviews['review_text'][0])"
      ],
      "execution_count": 0,
      "outputs": [
        {
          "output_type": "execute_result",
          "data": {
            "text/plain": [
              "['Great to experience to visit this beautiful CN tower of Canada...',\n",
              " \"It's a bit pricey but it's ok. 36$ not include the sky pod you need to add 12$ plus taxes.\",\n",
              " 'No charge for kids 0-4 and youngs is 24$ 4-12.']"
            ]
          },
          "metadata": {
            "tags": []
          },
          "execution_count": 16
        }
      ]
    },
    {
      "cell_type": "code",
      "metadata": {
        "id": "Vl73mH4lq0MN",
        "colab_type": "code",
        "colab": {}
      },
      "source": [
        "sentences = []\n",
        "for rev in cleaned_reviews['review_text']:\n",
        "  try:\n",
        "    sentences.extend(sent_tokenize(rev))\n",
        "  except:\n",
        "    pass"
      ],
      "execution_count": 0,
      "outputs": []
    },
    {
      "cell_type": "code",
      "metadata": {
        "id": "BWx35y00s5PF",
        "colab_type": "code",
        "colab": {}
      },
      "source": [
        "df = pd.DataFrame(sentences, columns=['review_text'])"
      ],
      "execution_count": 0,
      "outputs": []
    },
    {
      "cell_type": "code",
      "metadata": {
        "id": "gUSjTuVXZbHt",
        "colab_type": "code",
        "outputId": "c2f661a1-f885-4abc-8cb0-c46bbf6a73dd",
        "colab": {
          "base_uri": "https://localhost:8080/",
          "height": 406
        }
      },
      "source": [
        "df"
      ],
      "execution_count": 0,
      "outputs": [
        {
          "output_type": "execute_result",
          "data": {
            "text/html": [
              "<div>\n",
              "<style scoped>\n",
              "    .dataframe tbody tr th:only-of-type {\n",
              "        vertical-align: middle;\n",
              "    }\n",
              "\n",
              "    .dataframe tbody tr th {\n",
              "        vertical-align: top;\n",
              "    }\n",
              "\n",
              "    .dataframe thead th {\n",
              "        text-align: right;\n",
              "    }\n",
              "</style>\n",
              "<table border=\"1\" class=\"dataframe\">\n",
              "  <thead>\n",
              "    <tr style=\"text-align: right;\">\n",
              "      <th></th>\n",
              "      <th>review_text</th>\n",
              "    </tr>\n",
              "  </thead>\n",
              "  <tbody>\n",
              "    <tr>\n",
              "      <th>0</th>\n",
              "      <td>I had a good experience at this store.</td>\n",
              "    </tr>\n",
              "    <tr>\n",
              "      <th>1</th>\n",
              "      <td>I was going to order online but instead though...</td>\n",
              "    </tr>\n",
              "    <tr>\n",
              "      <th>2</th>\n",
              "      <td>I received good and knowledgeable responses an...</td>\n",
              "    </tr>\n",
              "    <tr>\n",
              "      <th>3</th>\n",
              "      <td>It was an easy process.</td>\n",
              "    </tr>\n",
              "    <tr>\n",
              "      <th>4</th>\n",
              "      <td>(I ultimately picked up the mattress instead o...</td>\n",
              "    </tr>\n",
              "    <tr>\n",
              "      <th>...</th>\n",
              "      <td>...</td>\n",
              "    </tr>\n",
              "    <tr>\n",
              "      <th>5174312</th>\n",
              "      <td>She is very caring and attentive to my little ...</td>\n",
              "    </tr>\n",
              "    <tr>\n",
              "      <th>5174313</th>\n",
              "      <td>She is very knowledgeable and professional.</td>\n",
              "    </tr>\n",
              "    <tr>\n",
              "      <th>5174314</th>\n",
              "      <td>I love seeing the instagram pics of my dog and...</td>\n",
              "    </tr>\n",
              "    <tr>\n",
              "      <th>5174315</th>\n",
              "      <td>I know how well he is treated by how excited h...</td>\n",
              "    </tr>\n",
              "    <tr>\n",
              "      <th>5174316</th>\n",
              "      <td>He literally runs and jumps to her whenever he...</td>\n",
              "    </tr>\n",
              "  </tbody>\n",
              "</table>\n",
              "<p>5174317 rows × 1 columns</p>\n",
              "</div>"
            ],
            "text/plain": [
              "                                               review_text\n",
              "0                   I had a good experience at this store.\n",
              "1        I was going to order online but instead though...\n",
              "2        I received good and knowledgeable responses an...\n",
              "3                                  It was an easy process.\n",
              "4        (I ultimately picked up the mattress instead o...\n",
              "...                                                    ...\n",
              "5174312  She is very caring and attentive to my little ...\n",
              "5174313        She is very knowledgeable and professional.\n",
              "5174314  I love seeing the instagram pics of my dog and...\n",
              "5174315  I know how well he is treated by how excited h...\n",
              "5174316  He literally runs and jumps to her whenever he...\n",
              "\n",
              "[5174317 rows x 1 columns]"
            ]
          },
          "metadata": {
            "tags": []
          },
          "execution_count": 32
        }
      ]
    },
    {
      "cell_type": "code",
      "metadata": {
        "id": "wSYq5I5ttQQq",
        "colab_type": "code",
        "colab": {}
      },
      "source": [
        "df.to_csv(DRIVE_PATH.joinpath('sentences.csv'), index=False)"
      ],
      "execution_count": 0,
      "outputs": []
    },
    {
      "cell_type": "markdown",
      "metadata": {
        "id": "XBM6oprdNiey",
        "colab_type": "text"
      },
      "source": [
        "### Torchtext"
      ]
    },
    {
      "cell_type": "markdown",
      "metadata": {
        "id": "YXSNYxhYMc0v",
        "colab_type": "text"
      },
      "source": [
        "Adapted from: \n",
        "\n",
        "https://github.com/bentrevett/pytorch-seq2seq/blob/master/1%20-%20Sequence%20to%20Sequence%20Learning%20with%20Neural%20Networks.ipynb\n",
        "\n",
        "This tutorial trains for English to German translations, without using any pretrained word-embeddings. I adapted the code for English to English sentence embeddings, using pretrained GLoVE word-embeddings"
      ]
    },
    {
      "cell_type": "code",
      "metadata": {
        "id": "gwow2hwwrwt2",
        "colab_type": "code",
        "colab": {}
      },
      "source": [
        "spacy_en = spacy.load('en')\n",
        "\n",
        "def tokenize_en(text):\n",
        "    \"\"\"\n",
        "    Tokenizes English text from a string into a list of strings (tokens)\n",
        "    \"\"\"\n",
        "    return [tok.text for tok in spacy_en.tokenizer(text)][:-1]\n",
        "\n",
        "SRC = Field(tokenize = tokenize_en, \n",
        "            init_token = '<sos>', \n",
        "            eos_token = '<eos>', \n",
        "            lower = True)"
      ],
      "execution_count": 0,
      "outputs": []
    },
    {
      "cell_type": "code",
      "metadata": {
        "id": "Hh10tpX5jnZq",
        "colab_type": "code",
        "colab": {}
      },
      "source": [
        "BATCH_SIZE=128\n",
        "device = torch.device('cuda' if torch.cuda.is_available() else 'cpu')\n",
        "# device = torch.device('cpu')\n",
        "fields = [('review_text', SRC)]"
      ],
      "execution_count": 0,
      "outputs": []
    },
    {
      "cell_type": "code",
      "metadata": {
        "id": "zCCTQKa6jDzv",
        "colab_type": "code",
        "colab": {}
      },
      "source": [
        "def build_dataset(path, min_freq=400):\n",
        "  # Load sentences and tokenizes\n",
        "  training_data = data.TabularDataset(path, format='csv', fields=fields, skip_header=True)\n",
        "\n",
        "  # Dividing data\n",
        "  train_data, test_data = training_data.split(random_state=random.seed(1))\n",
        "  train_data, val_data = train_data.split(random_state=random.seed(0))\n",
        "\n",
        "  print('Example')\n",
        "  print(vars(train_data.examples[0]))\n",
        "\n",
        "  # Select features with minimum frequence of 400, and assign words GLoVE embeddings\n",
        "  train_data.fields['review_text'].build_vocab(train_data, min_freq=min_freq, vectors = \"glove.6B.50d\")\n",
        "\n",
        "  VOCAB_SIZE=len(train_data.fields['review_text'].vocab)\n",
        "\n",
        "  print('VOCAB VECTOR SHAPE', train_data.fields['review_text'].vocab.vectors.shape)\n",
        "\n",
        "  # Build batch iterator\n",
        "  train_iterator, valid_iterator, test_iterator = BucketIterator.splits(\n",
        "      (train_data, val_data, test_data), \n",
        "      sort_key=lambda x: len(x.review_text),\n",
        "      sort_within_batch=False,\n",
        "      batch_size = BATCH_SIZE, \n",
        "      device = device)\n",
        "  \n",
        "  return train_iterator, valid_iterator, test_iterator, VOCAB_SIZE"
      ],
      "execution_count": 0,
      "outputs": []
    },
    {
      "cell_type": "markdown",
      "metadata": {
        "id": "25M2vCLLNSOb",
        "colab_type": "text"
      },
      "source": [
        "## ELMO"
      ]
    },
    {
      "cell_type": "markdown",
      "metadata": {
        "id": "SIO8QWKUNrYk",
        "colab_type": "text"
      },
      "source": [
        "### For Census change prediction\n",
        "Different from the data cleaning for TF-IDF Autoencoder, for computational efficiency, business reviews are not concatenated to form one single string, but put into a list of strings. Each review in the list of strings will be embedded with ELMO first, then, their averages will be taken.  "
      ]
    },
    {
      "cell_type": "code",
      "metadata": {
        "id": "m9LoKwHaNVs7",
        "colab_type": "code",
        "colab": {}
      },
      "source": [
        "alldocs_lists = {}\n",
        "for year in [2011, 2016]:\n",
        "  alldocs_lists[year] = [x.split('\\n\\n') for x in alldocs[year]]"
      ],
      "execution_count": 0,
      "outputs": []
    },
    {
      "cell_type": "code",
      "metadata": {
        "id": "o5PqTknENqRU",
        "colab_type": "code",
        "colab": {}
      },
      "source": [
        "all_neighbourhoodcounts = {}\n",
        "\n",
        "for year in [2011, 2016]:\n",
        "  neighbourhoodcounts = {}\n",
        "  docs = alldocs_lists[year]\n",
        "  busid = busids[year]\n",
        "  for k,v in tqdm(n2bid.items(),total=len(n2bid.keys())):\n",
        "      total = []\n",
        "      for bid in v:\n",
        "          if bid in busid:\n",
        "              total.extend(docs[busid.index(bid)])\n",
        "      neighbourhoodcounts[k] = total\n",
        "\n",
        "  all_neighbourhoodcounts[year] = neighbourhoodcounts"
      ],
      "execution_count": 0,
      "outputs": []
    },
    {
      "cell_type": "markdown",
      "metadata": {
        "id": "5pjMe1wEOrRh",
        "colab_type": "text"
      },
      "source": [
        "# Model Training"
      ]
    },
    {
      "cell_type": "markdown",
      "metadata": {
        "id": "IhMBugghOt2r",
        "colab_type": "text"
      },
      "source": [
        "## TF-IDF Autoencoder"
      ]
    },
    {
      "cell_type": "code",
      "metadata": {
        "id": "XI7Wo47sNfqp",
        "colab_type": "code",
        "colab": {}
      },
      "source": [
        "class Encoder(nn.Module):\n",
        "    def __init__(self, sizes):\n",
        "        super(Encoder, self).__init__()\n",
        "                \n",
        "        layers_en = OrderedDict()       \n",
        "        for i in range(len(sizes)-1):\n",
        "            layer_name = 'linear{}'.format(i+1)\n",
        "            act_name = 'activation{}'.format(i+1)\n",
        "            layers_en[layer_name] = nn.Linear(sizes[i], sizes[i+1])\n",
        "            if i==0:\n",
        "                nn.init.xavier_uniform_(layers_en[layer_name].weight)\n",
        "            layers_en[act_name] = nn.Tanh()\n",
        "        \n",
        "        self.encoder = nn.Sequential(layers_en)\n",
        "\n",
        "    def forward(self, x):\n",
        "        return self.encoder(x) \n",
        "    \n",
        "class Decoder(nn.Module):\n",
        "    def __init__(self, sizes):\n",
        "        super(Decoder, self).__init__()\n",
        "        \n",
        "        sizes = sizes[::-1]\n",
        "        \n",
        "        layers_de = OrderedDict()\n",
        "        for i in range(len(sizes)-2):\n",
        "            layer_name = 'linear{}'.format(i+1)\n",
        "            act_name = 'activation{}'.format(i+1)\n",
        "            layers_de[layer_name] = nn.Linear(sizes[i], sizes[i+1])\n",
        "            layers_de[act_name] = nn.Tanh()\n",
        "\n",
        "        layers_de['linear{}'.format(len(sizes)-1)] = nn.Linear(sizes[-2], sizes[-1])\n",
        "        layers_de['sigmoid'] = nn.Sigmoid()\n",
        "        self.decoder = nn.Sequential(layers_de)\n",
        "\n",
        "    def forward(self, encoded):\n",
        "        return self.decoder(encoded) "
      ],
      "execution_count": 0,
      "outputs": []
    },
    {
      "cell_type": "code",
      "metadata": {
        "id": "HboFuFfWUIyX",
        "colab_type": "code",
        "colab": {}
      },
      "source": [
        "def criterion(data, decoded):\n",
        "    cossim_loss = nn.CosineEmbeddingLoss(reduction='sum') # Pytorch built-in Cosine similarity for calculating loss \n",
        "    y = torch.tensor(np.ones((data.shape[0], 1)), dtype=torch.float).cuda()\n",
        "    if use_cuda and torch.cuda.is_available():\n",
        "      y = y.cuda()\n",
        "    loss = cossim_loss(data, decoded, y)\n",
        "    return loss\n"
      ],
      "execution_count": 0,
      "outputs": []
    },
    {
      "cell_type": "code",
      "metadata": {
        "id": "cC1aJRL4Xdsk",
        "colab_type": "code",
        "colab": {}
      },
      "source": [
        "def training(encoder, decoder, batch_size):\n",
        "  train_losses = []\n",
        "  val_losses = []\n",
        "\n",
        "  optimizer_en = optim.Adam(encoder.parameters(), lr=lr)\n",
        "  scheduler_en = optim.lr_scheduler.ReduceLROnPlateau(optimizer_en, 'min', patience=patience, min_lr=min_lr, factor=0.1)\n",
        "  optimizer_de = optim.Adam(decoder.parameters(), lr=lr)\n",
        "  scheduler_de = optim.lr_scheduler.ReduceLROnPlateau(optimizer_de, 'min', patience=patience, min_lr=min_lr, factor=0.1)\n",
        "\n",
        "  def process_function(engine, batch):\n",
        "    encoder.train()\n",
        "    decoder.train()\n",
        "    optimizer_en.zero_grad()\n",
        "    optimizer_de.zero_grad()\n",
        "    encoded = encoder(batch)\n",
        "    decoded = decoder(encoded)\n",
        "    loss = criterion(decoded, batch)\n",
        "    loss.backward()\n",
        "\n",
        "    optimizer_en.step()\n",
        "    optimizer_de.step()\n",
        "    return loss.item()\n",
        "  \n",
        "\n",
        "  def eval_function(engine, batch):\n",
        "    encoder.eval()\n",
        "    decoder.eval()\n",
        "\n",
        "    with torch.no_grad():\n",
        "        encoded = encoder(batch)\n",
        "        decoded = decoder(encoded)\n",
        "        return decoded, batch\n",
        "  \n",
        "  trainer = Engine(process_function)\n",
        "  train_evaluator = Engine(eval_function)\n",
        "  validation_evaluator = Engine(eval_function)\n",
        "\n",
        "  metric = Loss(criterion)\n",
        "  metric.attach(train_evaluator, 'loss')\n",
        "  metric.attach(validation_evaluator, 'loss')\n",
        "\n",
        "  pbar = ProgressBar(persist=True, bar_format=\"\")\n",
        "  pbar.attach(trainer, ['loss'])\n",
        "\n",
        "  @trainer.on(Events.EPOCH_COMPLETED)\n",
        "\n",
        "  def log_training_results(engine):\n",
        "      train_evaluator.run(train_iterator)\n",
        "      metrics = train_evaluator.state.metrics\n",
        "      avg_loss = metrics['loss']    \n",
        "      \n",
        "      train_losses.append(avg_loss)\n",
        "\n",
        "      pbar.log_message(\n",
        "          \"Training Results - Epoch: {}  Avg loss: {:.4f}\"\n",
        "          .format(engine.state.epoch, avg_loss))\n",
        "      \n",
        "  def log_validation_results(engine):\n",
        "      validation_evaluator.run(valid_iterator)\n",
        "      metrics = validation_evaluator.state.metrics\n",
        "      avg_loss = metrics['loss']\n",
        "\n",
        "      val_losses.append(avg_loss)\n",
        "\n",
        "      pbar.log_message(\n",
        "          \"Validation Results - Epoch: {}  Avg loss: {:.4f}\"\n",
        "          .format(engine.state.epoch, avg_loss))\n",
        "      pbar.n = pbar.last_print_n = 0\n",
        "\n",
        "  trainer.add_event_handler(Events.EPOCH_COMPLETED, log_validation_results)\n",
        "\n",
        "  # Reduce on Plateau\n",
        "  def average_loss(engine):\n",
        "    print(\"Current lr: {}\".format(optimizer_de.param_groups[0]['lr']))\n",
        "    average_loss = engine.state.metrics['loss']\n",
        "    scheduler_en.step(average_loss)\n",
        "    scheduler_de.step(average_loss)\n",
        "\n",
        "  validation_evaluator.add_event_handler(Events.COMPLETED, average_loss)\n",
        "  \n",
        "  # Early Stopping\n",
        "  def score_function(engine):\n",
        "      val_loss = engine.state.metrics['loss']\n",
        "      return -val_loss\n",
        "\n",
        "  handler = EarlyStopping(patience=100, score_function=score_function, trainer=trainer)\n",
        "  validation_evaluator.add_event_handler(Events.COMPLETED, handler)\n",
        "\n",
        "  # Model Checkpoint\n",
        "  checkpointer = ModelCheckpoint(str(DRIVE_PATH.joinpath('models')), 'review', save_interval=10, n_saved=1, create_dir=False, save_as_state_dict=True, require_empty=False)\n",
        "  trainer.add_event_handler(Events.EPOCH_COMPLETED, checkpointer, {'encoder': encoder, 'decoder': decoder})\n",
        "\n",
        "  train_iterator = Data.DataLoader(train_data, batch_size=batch_size, shuffle=True, drop_last=False)\n",
        "  valid_iterator = Data.DataLoader(val_data, batch_size=batch_size, shuffle=True, drop_last=False)\n",
        "\n",
        "  trainer.run(train_iterator, max_epochs=500)\n",
        "\n",
        "  return train_losses, val_losses"
      ],
      "execution_count": 0,
      "outputs": []
    },
    {
      "cell_type": "code",
      "metadata": {
        "id": "n0HGmIFEXgCJ",
        "colab_type": "code",
        "colab": {}
      },
      "source": [
        "lr = 0.001\n",
        "patience = 20\n",
        "min_lr = 0.00001"
      ],
      "execution_count": 0,
      "outputs": []
    },
    {
      "cell_type": "code",
      "metadata": {
        "id": "R7KgULQvXg1o",
        "colab_type": "code",
        "colab": {}
      },
      "source": [
        "sizes_r = [max_features, 2**10, 2**8, pca_components]\n",
        "encoder = Encoder(sizes_r)\n",
        "decoder = Decoder(sizes_r)\n",
        "\n",
        "if use_cuda and torch.cuda.is_available():\n",
        "    encoder.cuda()\n",
        "    decoder.cuda()"
      ],
      "execution_count": 0,
      "outputs": []
    },
    {
      "cell_type": "code",
      "metadata": {
        "id": "Uv-rUg1dH0_U",
        "colab_type": "code",
        "colab": {
          "base_uri": "https://localhost:8080/",
          "height": 194
        },
        "outputId": "2ef20cef-7cfe-45dd-b014-0b43187ba551"
      },
      "source": [
        "encoder"
      ],
      "execution_count": 10,
      "outputs": [
        {
          "output_type": "execute_result",
          "data": {
            "text/plain": [
              "Encoder(\n",
              "  (encoder): Sequential(\n",
              "    (linear1): Linear(in_features=1024, out_features=1024, bias=True)\n",
              "    (activation1): Tanh()\n",
              "    (linear2): Linear(in_features=1024, out_features=256, bias=True)\n",
              "    (activation2): Tanh()\n",
              "    (linear3): Linear(in_features=256, out_features=16, bias=True)\n",
              "    (activation3): Tanh()\n",
              "  )\n",
              ")"
            ]
          },
          "metadata": {
            "tags": []
          },
          "execution_count": 10
        }
      ]
    },
    {
      "cell_type": "code",
      "metadata": {
        "id": "cj5gIk4fH1hg",
        "colab_type": "code",
        "colab": {
          "base_uri": "https://localhost:8080/",
          "height": 194
        },
        "outputId": "7884e053-7201-4fc2-e7a6-992d9622120b"
      },
      "source": [
        "decoder"
      ],
      "execution_count": 11,
      "outputs": [
        {
          "output_type": "execute_result",
          "data": {
            "text/plain": [
              "Decoder(\n",
              "  (decoder): Sequential(\n",
              "    (linear1): Linear(in_features=16, out_features=256, bias=True)\n",
              "    (activation1): Tanh()\n",
              "    (linear2): Linear(in_features=256, out_features=1024, bias=True)\n",
              "    (activation2): Tanh()\n",
              "    (linear3): Linear(in_features=1024, out_features=1024, bias=True)\n",
              "    (sigmoid): Sigmoid()\n",
              "  )\n",
              ")"
            ]
          },
          "metadata": {
            "tags": []
          },
          "execution_count": 11
        }
      ]
    },
    {
      "cell_type": "code",
      "metadata": {
        "id": "f3l6fgD8XiiI",
        "colab_type": "code",
        "colab": {}
      },
      "source": [
        "train_losses, val_losses = training(encoder, decoder, train_data.data.shape[0]//100)"
      ],
      "execution_count": 0,
      "outputs": []
    },
    {
      "cell_type": "code",
      "metadata": {
        "id": "CpFBtFT-beHb",
        "colab_type": "code",
        "outputId": "5faa68d4-5f9c-4c4b-e13d-fb80932ba76a",
        "colab": {
          "base_uri": "https://localhost:8080/",
          "height": 312
        }
      },
      "source": [
        "plt.plot(np.arange(len(val_losses)), val_losses, np.arange((len(train_losses))), train_losses)\n",
        "plt.legend(['Validation Losses', 'Training Losses'])\n",
        "plt.title('Loss curves')\n",
        "plt.xlabel('Epoch')\n",
        "plt.ylabel('Loss')"
      ],
      "execution_count": 0,
      "outputs": [
        {
          "output_type": "execute_result",
          "data": {
            "text/plain": [
              "Text(0, 0.5, 'Loss')"
            ]
          },
          "metadata": {
            "tags": []
          },
          "execution_count": 70
        },
        {
          "output_type": "display_data",
          "data": {
            "image/png": "[encoded data removed]",
            "text/plain": [
              "<Figure size 432x288 with 1 Axes>"
            ]
          },
          "metadata": {
            "tags": []
          }
        }
      ]
    },
    {
      "cell_type": "markdown",
      "metadata": {
        "id": "D7Fc99h6fB1P",
        "colab_type": "text"
      },
      "source": [
        "## RNN"
      ]
    },
    {
      "cell_type": "markdown",
      "metadata": {
        "id": "atkVuCq5faO8",
        "colab_type": "text"
      },
      "source": [
        "Reference: https://github.com/bentrevett/pytorch-seq2seq/blob/master/1%20-%20Sequence%20to%20Sequence%20Learning%20with%20Neural%20Networks.ipynb"
      ]
    },
    {
      "cell_type": "code",
      "metadata": {
        "id": "G5cu4DyqfEu7",
        "colab_type": "code",
        "colab": {}
      },
      "source": [
        "class Encoder(nn.Module):\n",
        "    def __init__(self, input_dim, emb_dim, hid_dim, n_layers, dropout=0.2):\n",
        "        super().__init__()\n",
        "        \n",
        "        self.hid_dim = hid_dim\n",
        "        self.n_layers = n_layers\n",
        "\n",
        "        self.embedding = nn.Embedding(input_dim, emb_dim)\n",
        "        \n",
        "        self.rnn = nn.LSTM(emb_dim, hid_dim, n_layers, dropout = dropout)\n",
        "        \n",
        "        self.dropout = nn.Dropout(dropout)\n",
        "        \n",
        "    def forward(self, src):\n",
        "        \n",
        "        #src = [src len, batch size]\n",
        "        \n",
        "        embedded = self.dropout(self.embedding(src))\n",
        "        \n",
        "        #embedded = [src len, batch size, emb dim]\n",
        "        \n",
        "        outputs, (hidden, cell) = self.rnn(embedded)\n",
        "        \n",
        "        #outputs = [src len, batch size, hid dim * n directions]\n",
        "        #hidden = [n layers * n directions, batch size, hid dim]\n",
        "        #cell = [n layers * n directions, batch size, hid dim]\n",
        "        \n",
        "        #outputs are always from the top hidden layer\n",
        "        \n",
        "        return hidden, cell\n",
        "        \n",
        "class Decoder(nn.Module):\n",
        "    def __init__(self, output_dim, emb_dim, hid_dim, n_layers, dropout=0.2):\n",
        "        super().__init__()\n",
        "        \n",
        "        self.output_dim = output_dim\n",
        "        self.hid_dim = hid_dim\n",
        "        self.n_layers = n_layers\n",
        "        \n",
        "        self.embedding = nn.Embedding(output_dim, emb_dim)\n",
        "        \n",
        "        self.rnn = nn.LSTM(emb_dim, hid_dim, n_layers, dropout = dropout)\n",
        "        \n",
        "        self.fc_out = nn.Linear(hid_dim, output_dim)\n",
        "        \n",
        "        self.dropout = nn.Dropout(dropout)\n",
        "        \n",
        "    def forward(self, input, hidden, cell):\n",
        "        \n",
        "        #input = [batch size]\n",
        "        #hidden = [n layers * n directions, batch size, hid dim]\n",
        "        #cell = [n layers * n directions, batch size, hid dim]\n",
        "        \n",
        "        #n directions in the decoder will both always be 1, therefore:\n",
        "        #hidden = [n layers, batch size, hid dim]\n",
        "        #context = [n layers, batch size, hid dim]\n",
        "        \n",
        "        input = input.unsqueeze(0)\n",
        "        \n",
        "        #input = [1, batch size]\n",
        "        \n",
        "        embedded = self.dropout(self.embedding(input))\n",
        "        \n",
        "        #embedded = [1, batch size, emb dim]\n",
        "                \n",
        "        output, (hidden, cell) = self.rnn(embedded, (hidden, cell))\n",
        "        \n",
        "        #output = [seq len, batch size, hid dim * n directions]\n",
        "        #hidden = [n layers * n directions, batch size, hid dim]\n",
        "        #cell = [n layers * n directions, batch size, hid dim]\n",
        "        \n",
        "        #seq len and n directions will always be 1 in the decoder, therefore:\n",
        "        #output = [1, batch size, hid dim]\n",
        "        #hidden = [n layers, batch size, hid dim]\n",
        "        #cell = [n layers, batch size, hid dim]\n",
        "        \n",
        "        prediction = self.fc_out(output.squeeze(0))\n",
        "        \n",
        "        #prediction = [batch size, output dim]\n",
        "        \n",
        "        return prediction, hidden, cell"
      ],
      "execution_count": 0,
      "outputs": []
    },
    {
      "cell_type": "code",
      "metadata": {
        "id": "dXhYGMkWfePu",
        "colab_type": "code",
        "colab": {}
      },
      "source": [
        "class Seq2Seq(nn.Module):\n",
        "    def __init__(self, encoder, decoder):\n",
        "        super().__init__()\n",
        "        \n",
        "        self.encoder = encoder\n",
        "        self.decoder = decoder\n",
        "        if use_cuda and torch.cuda.is_available():\n",
        "          self.device = torch.device('cuda')\n",
        "        else:\n",
        "          self.device = torch.device('cpu')\n",
        "        \n",
        "        assert encoder.hid_dim == decoder.hid_dim, \\\n",
        "            \"Hidden dimensions of encoder and decoder must be equal!\"\n",
        "        assert encoder.n_layers == decoder.n_layers, \\\n",
        "            \"Encoder and decoder must have equal number of layers!\"\n",
        "        \n",
        "    def forward(self, src, trg, teacher_forcing_ratio = 0.5):\n",
        "        \n",
        "        #src = [src len, batch size]\n",
        "        #trg = [trg len, batch size]\n",
        "        #teacher_forcing_ratio is probability to use teacher forcing\n",
        "        #e.g. if teacher_forcing_ratio is 0.75 we use ground-truth inputs 75% of the time\n",
        "        \n",
        "        batch_size = trg.shape[1]\n",
        "        trg_len = trg.shape[0]\n",
        "        trg_vocab_size = self.decoder.output_dim\n",
        "        \n",
        "        #tensor to store decoder outputs\n",
        "        # outputs = torch.zeros(trg_len, batch_size, trg_vocab_size).to(self.device)\n",
        "        outputs = torch.zeros(trg_len, batch_size, trg_vocab_size)\n",
        "        \n",
        "        #last hidden state of the encoder is used as the initial hidden state of the decoder\n",
        "        hidden, cell = self.encoder(src)\n",
        "        \n",
        "        #first input to the decoder is the <sos> tokens\n",
        "        input = trg[0,:]\n",
        "        \n",
        "        for t in range(1, trg_len):\n",
        "            \n",
        "            #insert input token embedding, previous hidden and previous cell states\n",
        "            #receive output tensor (predictions) and new hidden and cell states\n",
        "            output, hidden, cell = self.decoder(input, hidden, cell)\n",
        "\n",
        "            #place predictions in a tensor holding predictions for each token\n",
        "            outputs[t] = output\n",
        "\n",
        "            #decide if we are going to use teacher forcing or not\n",
        "            teacher_force = random.random() < teacher_forcing_ratio\n",
        "            \n",
        "            #get the highest predicted token from our predictions\n",
        "            top1 = output.argmax(1) \n",
        "            \n",
        "            #if teacher forcing, use actual next token as next input\n",
        "            #if not, use predicted token\n",
        "            input = trg[t] if teacher_force else top1\n",
        "        \n",
        "        return outputs"
      ],
      "execution_count": 0,
      "outputs": []
    },
    {
      "cell_type": "code",
      "metadata": {
        "id": "wjdjsln9few0",
        "colab_type": "code",
        "colab": {}
      },
      "source": [
        "def train(model, iterator, optimizer, criterion, clip):\n",
        "    \n",
        "    model.train()\n",
        "    \n",
        "    epoch_loss = 0\n",
        "    \n",
        "    for i, batch in enumerate(iterator):\n",
        "        \n",
        "        src = batch.review_text\n",
        "        # trg = torch.from_numpy(np.flip(src.detach().cpu().numpy(),0).copy()).cuda()\n",
        "        trg = torch.from_numpy(np.flip(src.numpy(),0).copy())\n",
        "        # trg = batch.review_text\n",
        "\n",
        "        optimizer.zero_grad()\n",
        "        \n",
        "        output = model(src, trg)\n",
        "        # print(output.shape)\n",
        "        # print(trg.shape)\n",
        "        \n",
        "        #trg = [trg len, batch size]\n",
        "        #output = [trg len, batch size, output dim]\n",
        "        \n",
        "        output_dim = output.shape[-1]\n",
        "        \n",
        "        output = output[1:].view(-1, output_dim)\n",
        "        trg = trg[1:].view(-1)\n",
        "        \n",
        "        #trg = [(trg len - 1) * batch size]\n",
        "        #output = [(trg len - 1) * batch size, output dim]\n",
        "        \n",
        "        loss = criterion(output, trg)\n",
        "        \n",
        "        loss.backward()\n",
        "        \n",
        "        torch.nn.utils.clip_grad_norm_(model.parameters(), clip)\n",
        "        \n",
        "        optimizer.step()\n",
        "        \n",
        "        epoch_loss += loss.item()\n",
        "        \n",
        "    return epoch_loss / len(iterator)"
      ],
      "execution_count": 0,
      "outputs": []
    },
    {
      "cell_type": "code",
      "metadata": {
        "id": "wIj8m55BfgBk",
        "colab_type": "code",
        "colab": {}
      },
      "source": [
        "def evaluate(model, iterator, criterion):\n",
        "    \n",
        "    model.eval()\n",
        "    \n",
        "    epoch_loss = 0\n",
        "    \n",
        "    with torch.no_grad():\n",
        "    \n",
        "        for i, batch in enumerate(iterator):\n",
        "\n",
        "            src = batch.review_text\n",
        "            # trg = torch.from_numpy(np.flip(src.detach().cpu().numpy(),0).copy()).cuda()\n",
        "            trg = torch.from_numpy(np.flip(src.numpy(),0).copy())\n",
        "            # trg = batch.review_text\n",
        "\n",
        "            output = model(src, trg, 0) #turn off teacher forcing\n",
        "\n",
        "            #trg = [trg len, batch size]\n",
        "            #output = [trg len, batch size, output dim]\n",
        "\n",
        "            output_dim = output.shape[-1]\n",
        "            \n",
        "            output = output[1:].view(-1, output_dim)\n",
        "            trg = trg[1:].view(-1)\n",
        "\n",
        "            #trg = [(trg len - 1) * batch size]\n",
        "            #output = [(trg len - 1) * batch size, output dim]\n",
        "\n",
        "            loss = criterion(output, trg)\n",
        "            \n",
        "            epoch_loss += loss.item()\n",
        "        \n",
        "    return epoch_loss / len(iterator)"
      ],
      "execution_count": 0,
      "outputs": []
    },
    {
      "cell_type": "code",
      "metadata": {
        "id": "f73RuDNdfh4M",
        "colab_type": "code",
        "colab": {}
      },
      "source": [
        "def test(model, iterator):\n",
        "    model.eval()\n",
        "    with torch.no_grad():\n",
        "      for i, batch in enumerate(iterator):\n",
        "        src = batch.review_text\n",
        "        trg = torch.from_numpy(np.flip(src.numpy(),0).copy())\n",
        "        # trg = batch.review_text\n",
        "\n",
        "        output = model(src, trg, 0)\n",
        "        output_dim = output.shape[-1]\n",
        "            \n",
        "        output = output[1:].view(-1, output_dim)\n",
        "        trg = trg[1:].view(-1)\n",
        "\n",
        "        return src, trg, output"
      ],
      "execution_count": 0,
      "outputs": []
    },
    {
      "cell_type": "code",
      "metadata": {
        "id": "nC5209K9zUQ9",
        "colab_type": "code",
        "colab": {}
      },
      "source": [
        "def init_weights(m):\n",
        "    for name, param in m.named_parameters():\n",
        "        nn.init.uniform_(param.data, -0.08, 0.08)"
      ],
      "execution_count": 0,
      "outputs": []
    },
    {
      "cell_type": "code",
      "metadata": {
        "id": "ZFfIIk5MzcqL",
        "colab_type": "code",
        "colab": {}
      },
      "source": [
        "import time\n",
        "import math\n",
        "\n",
        "def epoch_time(start_time, end_time):\n",
        "    elapsed_time = end_time - start_time\n",
        "    elapsed_mins = int(elapsed_time / 60)\n",
        "    elapsed_secs = int(elapsed_time - (elapsed_mins * 60))\n",
        "    return elapsed_mins, elapsed_secs"
      ],
      "execution_count": 0,
      "outputs": []
    },
    {
      "cell_type": "markdown",
      "metadata": {
        "id": "xacdXOY4hD0o",
        "colab_type": "text"
      },
      "source": [
        "### Synthetic Dataset"
      ]
    },
    {
      "cell_type": "code",
      "metadata": {
        "colab_type": "code",
        "outputId": "d0a5d958-99f0-4d0f-df4d-7493d72400b3",
        "id": "L3lZVa6luW8t",
        "colab": {
          "base_uri": "https://localhost:8080/",
          "height": 70
        }
      },
      "source": [
        "train_iterator, valid_iterator, test_iterator, VOCAB_SIZE = build_dataset(DRIVE_PATH.joinpath('synthetic.csv'), min_freq=0)"
      ],
      "execution_count": 0,
      "outputs": [
        {
          "output_type": "stream",
          "text": [
            "Example\n",
            "{'review_text': ['that', 'is', 'extremely', 'tasty']}\n",
            "VOCAB VECTOR SHAPE torch.Size([36, 50])\n"
          ],
          "name": "stdout"
        }
      ]
    },
    {
      "cell_type": "code",
      "metadata": {
        "id": "tyEf1XmffjAI",
        "colab_type": "code",
        "colab": {}
      },
      "source": [
        "INPUT_DIM = VOCAB_SIZE\n",
        "OUTPUT_DIM = VOCAB_SIZE\n",
        "ENC_EMB_DIM = EMBEDDING_DIM\n",
        "DEC_EMB_DIM = EMBEDDING_DIM\n",
        "HID_DIM = 256\n",
        "N_LAYERS = 2\n",
        "ENC_DROPOUT = 0.5\n",
        "DEC_DROPOUT = 0.5\n",
        "\n",
        "enc = Encoder(INPUT_DIM, ENC_EMB_DIM, HID_DIM, N_LAYERS, ENC_DROPOUT)\n",
        "dec = Decoder(OUTPUT_DIM, DEC_EMB_DIM, HID_DIM, N_LAYERS, DEC_DROPOUT)\n",
        "\n",
        "model = Seq2Seq(enc, dec).to(device)"
      ],
      "execution_count": 0,
      "outputs": []
    },
    {
      "cell_type": "code",
      "metadata": {
        "id": "q7mV4RuOwvda",
        "colab_type": "code",
        "outputId": "2a5ec9ad-4520-49d6-a10c-9c39e9c961c7",
        "colab": {
          "base_uri": "https://localhost:8080/",
          "height": 247
        }
      },
      "source": [
        "model.apply(init_weights)"
      ],
      "execution_count": 0,
      "outputs": [
        {
          "output_type": "execute_result",
          "data": {
            "text/plain": [
              "Seq2Seq(\n",
              "  (encoder): Encoder(\n",
              "    (embedding): Embedding(36, 50)\n",
              "    (rnn): LSTM(50, 256, num_layers=2, dropout=0.5)\n",
              "    (dropout): Dropout(p=0.5, inplace=False)\n",
              "  )\n",
              "  (decoder): Decoder(\n",
              "    (embedding): Embedding(36, 50)\n",
              "    (rnn): LSTM(50, 256, num_layers=2, dropout=0.5)\n",
              "    (fc_out): Linear(in_features=256, out_features=36, bias=True)\n",
              "    (dropout): Dropout(p=0.5, inplace=False)\n",
              "  )\n",
              ")"
            ]
          },
          "metadata": {
            "tags": []
          },
          "execution_count": 71
        }
      ]
    },
    {
      "cell_type": "code",
      "metadata": {
        "id": "SdtmwVAVfoym",
        "colab_type": "code",
        "colab": {}
      },
      "source": [
        "PAD_IDX = SRC.vocab.stoi[SRC.pad_token]"
      ],
      "execution_count": 0,
      "outputs": []
    },
    {
      "cell_type": "code",
      "metadata": {
        "id": "SRRiYdEgyryK",
        "colab_type": "code",
        "outputId": "34d25e98-0c9a-472d-a720-458e7167af57",
        "colab": {
          "base_uri": "https://localhost:8080/",
          "height": 1000
        }
      },
      "source": [
        "N_EPOCHS = 25\n",
        "CLIP = 1\n",
        "\n",
        "criterion = nn.CrossEntropyLoss(ignore_index = PAD_IDX)\n",
        "optimizer = optim.Adam(model.parameters(), lr=0.001, weight_decay=0.01)\n",
        "scheduler = optim.lr_scheduler.ReduceLROnPlateau(optimizer, 'min', patience=1, min_lr=0.00001, factor=0.1)\n",
        "\n",
        "train_losses, val_losses = [], []\n",
        "\n",
        "best_valid_loss = float(\"inf\")\n",
        "\n",
        "for epoch in range(N_EPOCHS):\n",
        "    \n",
        "    start_time = time.time()\n",
        "    \n",
        "    train_loss = train(model, train_iterator, optimizer, criterion, CLIP)\n",
        "    valid_loss = evaluate(model, valid_iterator, criterion)\n",
        "    \n",
        "    train_losses.append(train_loss)\n",
        "    val_losses.append(valid_loss)\n",
        "    \n",
        "    end_time = time.time()\n",
        "    \n",
        "    epoch_mins, epoch_secs = epoch_time(start_time, end_time)\n",
        "    \n",
        "    if valid_loss < best_valid_loss:\n",
        "        best_valid_loss = valid_loss\n",
        "        torch.save(model.state_dict(), str(DRIVE_PATH.joinpath('models/rnn_synthetic.pth')))\n",
        "\n",
        "    scheduler.step(train_loss)\n",
        "\n",
        "    print(f'Epoch: {epoch+1:02} | Time: {epoch_mins}m {epoch_secs}s')\n",
        "    print(f'\\tTrain Loss: {train_loss:.3f} | Train PPL: {math.exp(train_loss):7.3f}')\n",
        "    print(f'\\t Val. Loss: {valid_loss:.3f} |  Val. PPL: {math.exp(valid_loss):7.3f}')"
      ],
      "execution_count": 0,
      "outputs": [
        {
          "output_type": "stream",
          "text": [
            "Epoch: 01 | Time: 0m 1s\n",
            "\tTrain Loss: 3.571 | Train PPL:  35.561\n",
            "\t Val. Loss: 3.546 |  Val. PPL:  34.672\n",
            "Epoch: 02 | Time: 0m 1s\n",
            "\tTrain Loss: 3.527 | Train PPL:  34.033\n",
            "\t Val. Loss: 3.503 |  Val. PPL:  33.214\n",
            "Epoch: 03 | Time: 0m 1s\n",
            "\tTrain Loss: 3.473 | Train PPL:  32.239\n",
            "\t Val. Loss: 3.442 |  Val. PPL:  31.256\n",
            "Epoch: 04 | Time: 0m 1s\n",
            "\tTrain Loss: 3.392 | Train PPL:  29.711\n",
            "\t Val. Loss: 3.342 |  Val. PPL:  28.279\n",
            "Epoch: 05 | Time: 0m 1s\n",
            "\tTrain Loss: 3.258 | Train PPL:  26.009\n",
            "\t Val. Loss: 3.191 |  Val. PPL:  24.321\n",
            "Epoch: 06 | Time: 0m 1s\n",
            "\tTrain Loss: 3.125 | Train PPL:  22.761\n",
            "\t Val. Loss: 3.112 |  Val. PPL:  22.469\n",
            "Epoch: 07 | Time: 0m 1s\n",
            "\tTrain Loss: 3.083 | Train PPL:  21.814\n",
            "\t Val. Loss: 3.074 |  Val. PPL:  21.635\n",
            "Epoch: 08 | Time: 0m 1s\n",
            "\tTrain Loss: 3.004 | Train PPL:  20.168\n",
            "\t Val. Loss: 3.071 |  Val. PPL:  21.561\n",
            "Epoch: 09 | Time: 0m 1s\n",
            "\tTrain Loss: 2.913 | Train PPL:  18.405\n",
            "\t Val. Loss: 2.962 |  Val. PPL:  19.327\n",
            "Epoch: 10 | Time: 0m 1s\n",
            "\tTrain Loss: 2.746 | Train PPL:  15.577\n",
            "\t Val. Loss: 2.901 |  Val. PPL:  18.186\n",
            "Epoch: 11 | Time: 0m 1s\n",
            "\tTrain Loss: 2.604 | Train PPL:  13.517\n",
            "\t Val. Loss: 2.800 |  Val. PPL:  16.438\n",
            "Epoch: 12 | Time: 0m 1s\n",
            "\tTrain Loss: 2.477 | Train PPL:  11.900\n",
            "\t Val. Loss: 2.784 |  Val. PPL:  16.184\n",
            "Epoch: 13 | Time: 0m 1s\n",
            "\tTrain Loss: 2.355 | Train PPL:  10.536\n",
            "\t Val. Loss: 2.755 |  Val. PPL:  15.714\n",
            "Epoch: 14 | Time: 0m 1s\n",
            "\tTrain Loss: 2.224 | Train PPL:   9.244\n",
            "\t Val. Loss: 2.792 |  Val. PPL:  16.320\n",
            "Epoch: 15 | Time: 0m 1s\n",
            "\tTrain Loss: 2.103 | Train PPL:   8.188\n",
            "\t Val. Loss: 2.822 |  Val. PPL:  16.816\n",
            "Epoch: 16 | Time: 0m 1s\n",
            "\tTrain Loss: 2.007 | Train PPL:   7.443\n",
            "\t Val. Loss: 2.731 |  Val. PPL:  15.351\n",
            "Epoch: 17 | Time: 0m 1s\n",
            "\tTrain Loss: 1.914 | Train PPL:   6.781\n",
            "\t Val. Loss: 2.682 |  Val. PPL:  14.619\n",
            "Epoch: 18 | Time: 0m 1s\n",
            "\tTrain Loss: 1.849 | Train PPL:   6.353\n",
            "\t Val. Loss: 2.958 |  Val. PPL:  19.266\n",
            "Epoch: 19 | Time: 0m 1s\n",
            "\tTrain Loss: 1.796 | Train PPL:   6.028\n",
            "\t Val. Loss: 2.821 |  Val. PPL:  16.798\n",
            "Epoch: 20 | Time: 0m 1s\n",
            "\tTrain Loss: 1.766 | Train PPL:   5.845\n",
            "\t Val. Loss: 2.885 |  Val. PPL:  17.901\n",
            "Epoch: 21 | Time: 0m 1s\n",
            "\tTrain Loss: 1.733 | Train PPL:   5.659\n",
            "\t Val. Loss: 2.946 |  Val. PPL:  19.021\n",
            "Epoch: 22 | Time: 0m 1s\n",
            "\tTrain Loss: 1.718 | Train PPL:   5.576\n",
            "\t Val. Loss: 3.009 |  Val. PPL:  20.260\n",
            "Epoch: 23 | Time: 0m 1s\n",
            "\tTrain Loss: 1.709 | Train PPL:   5.522\n",
            "\t Val. Loss: 2.917 |  Val. PPL:  18.482\n",
            "Epoch: 24 | Time: 0m 1s\n",
            "\tTrain Loss: 1.704 | Train PPL:   5.494\n",
            "\t Val. Loss: 3.127 |  Val. PPL:  22.809\n",
            "Epoch: 25 | Time: 0m 1s\n",
            "\tTrain Loss: 1.705 | Train PPL:   5.501\n",
            "\t Val. Loss: 2.987 |  Val. PPL:  19.819\n"
          ],
          "name": "stdout"
        }
      ]
    },
    {
      "cell_type": "code",
      "metadata": {
        "id": "_wmj76m_3SrV",
        "colab_type": "code",
        "outputId": "050026be-7054-4fec-cbcd-28c5487763e7",
        "colab": {
          "base_uri": "https://localhost:8080/",
          "height": 312
        }
      },
      "source": [
        "plt.plot(np.arange(len(val_losses)), val_losses, np.arange((len(train_losses))), train_losses)\n",
        "plt.legend(['Validation Losses', 'Training Losses'])\n",
        "plt.title('Loss curves')\n",
        "plt.xlabel('Epoch')\n",
        "plt.ylabel('Loss')"
      ],
      "execution_count": 0,
      "outputs": [
        {
          "output_type": "execute_result",
          "data": {
            "text/plain": [
              "Text(0, 0.5, 'Loss')"
            ]
          },
          "metadata": {
            "tags": []
          },
          "execution_count": 74
        },
        {
          "output_type": "display_data",
          "data": {
            "image/png": "[encoded data removed]",
            "text/plain": [
              "<Figure size 432x288 with 1 Axes>"
            ]
          },
          "metadata": {
            "tags": []
          }
        }
      ]
    },
    {
      "cell_type": "markdown",
      "metadata": {
        "id": "y3G-bUWghAcq",
        "colab_type": "text"
      },
      "source": [
        "### Real Dataset"
      ]
    },
    {
      "cell_type": "code",
      "metadata": {
        "colab_type": "code",
        "outputId": "b58fbfcc-6652-4806-adf7-cba03525fb85",
        "id": "wjQ0hmAtuZ7J",
        "colab": {
          "base_uri": "https://localhost:8080/",
          "height": 70
        }
      },
      "source": [
        "train_iterator, valid_iterator, test_iterator = build_dataset(DRIVE_PATH.joinpath('sentences.csv'))"
      ],
      "execution_count": 0,
      "outputs": [
        {
          "output_type": "stream",
          "text": [
            "Example\n",
            "{'review_text': ['the', 'mozzarella', 'ball', 'was', 'really', 'good']}\n",
            "VOCAB VECTOR SHAPE torch.Size([4924, 50])\n"
          ],
          "name": "stdout"
        }
      ]
    },
    {
      "cell_type": "code",
      "metadata": {
        "id": "1ITOHf3gzrCl",
        "colab_type": "code",
        "colab": {}
      },
      "source": [
        "INPUT_DIM = VOCAB_SIZE\n",
        "OUTPUT_DIM = VOCAB_SIZE\n",
        "ENC_EMB_DIM = EMBEDDING_DIM\n",
        "DEC_EMB_DIM = EMBEDDING_DIM\n",
        "HID_DIM = 256\n",
        "N_LAYERS = 2\n",
        "ENC_DROPOUT = 0.5\n",
        "DEC_DROPOUT = 0.5\n",
        "\n",
        "enc = Encoder(INPUT_DIM, ENC_EMB_DIM, HID_DIM, N_LAYERS, ENC_DROPOUT)\n",
        "dec = Decoder(OUTPUT_DIM, DEC_EMB_DIM, HID_DIM, N_LAYERS, DEC_DROPOUT)\n",
        "\n",
        "model = Seq2Seq(enc, dec).to(device)"
      ],
      "execution_count": 0,
      "outputs": []
    },
    {
      "cell_type": "code",
      "metadata": {
        "colab_type": "code",
        "outputId": "49b4ede5-b639-42f0-fb09-982308a236ce",
        "id": "H6VSq1-tzx1P",
        "colab": {
          "base_uri": "https://localhost:8080/",
          "height": 247
        }
      },
      "source": [
        "model.apply(init_weights)"
      ],
      "execution_count": 0,
      "outputs": [
        {
          "output_type": "execute_result",
          "data": {
            "text/plain": [
              "Seq2Seq(\n",
              "  (encoder): Encoder(\n",
              "    (embedding): Embedding(4924, 50)\n",
              "    (rnn): LSTM(50, 256, num_layers=2, dropout=0.5)\n",
              "    (dropout): Dropout(p=0.5, inplace=False)\n",
              "  )\n",
              "  (decoder): Decoder(\n",
              "    (embedding): Embedding(4924, 50)\n",
              "    (rnn): LSTM(50, 256, num_layers=2, dropout=0.5)\n",
              "    (fc_out): Linear(in_features=256, out_features=4924, bias=True)\n",
              "    (dropout): Dropout(p=0.5, inplace=False)\n",
              "  )\n",
              ")"
            ]
          },
          "metadata": {
            "tags": []
          },
          "execution_count": 28
        }
      ]
    },
    {
      "cell_type": "code",
      "metadata": {
        "id": "VgNkJBjBGDiZ",
        "colab_type": "code",
        "outputId": "8fbe5557-d5cb-4927-df71-384d31c064ce",
        "colab": {
          "base_uri": "https://localhost:8080/",
          "height": 34
        }
      },
      "source": [
        "print(f'The model has {count_parameters(model):,} trainable parameters')"
      ],
      "execution_count": 0,
      "outputs": [
        {
          "output_type": "stream",
          "text": [
            "The model has 3,441,324 trainable parameters\n"
          ],
          "name": "stdout"
        }
      ]
    },
    {
      "cell_type": "code",
      "metadata": {
        "id": "1R3NIHY5z3SZ",
        "colab_type": "code",
        "colab": {}
      },
      "source": [
        "PAD_IDX = SRC.vocab.stoi[SRC.pad_token]"
      ],
      "execution_count": 0,
      "outputs": []
    },
    {
      "cell_type": "code",
      "metadata": {
        "id": "FE4UKkbVHB9c",
        "colab_type": "code",
        "outputId": "6ef7838c-cd29-4d5b-da59-cd229e90234f",
        "colab": {
          "base_uri": "https://localhost:8080/",
          "height": 336
        }
      },
      "source": [
        "N_EPOCHS = 50\n",
        "CLIP = 1\n",
        "\n",
        "criterion = nn.CrossEntropyLoss(ignore_index = PAD_IDX)\n",
        "optimizer = optim.Adam(model.parameters(), lr=0.001, weight_decay=0.01)\n",
        "scheduler = optim.lr_scheduler.ReduceLROnPlateau(optimizer, 'min', patience=1, min_lr=0.00001, factor=0.1)\n",
        "\n",
        "train_losses, val_losses = [], []\n",
        "\n",
        "best_valid_loss = float(\"inf\")\n",
        "\n",
        "for epoch in range(N_EPOCHS):\n",
        "    \n",
        "    start_time = time.time()\n",
        "    \n",
        "    train_loss = train(model, train_iterator, optimizer, criterion, CLIP)\n",
        "    valid_loss = evaluate(model, valid_iterator, criterion)\n",
        "    \n",
        "    train_losses.append(train_loss)\n",
        "    val_losses.append(valid_loss)\n",
        "    \n",
        "    end_time = time.time()\n",
        "    \n",
        "    epoch_mins, epoch_secs = epoch_time(start_time, end_time)\n",
        "    \n",
        "    if valid_loss < best_valid_loss:\n",
        "        best_valid_loss = valid_loss\n",
        "        torch.save(model.state_dict(), str(DRIVE_PATH.joinpath('models/rnnfull.pth')))\n",
        "\n",
        "    scheduler.step(train_loss)\n",
        "\n",
        "    print(f'Epoch: {epoch+1:02} | Time: {epoch_mins}m {epoch_secs}s')\n",
        "    print(f'\\tTrain Loss: {train_loss:.3f} | Train PPL: {math.exp(train_loss):7.3f}')\n",
        "    print(f'\\t Val. Loss: {valid_loss:.3f} |  Val. PPL: {math.exp(valid_loss):7.3f}')"
      ],
      "execution_count": 0,
      "outputs": [
        {
          "output_type": "stream",
          "text": [
            "Epoch: 01 | Time: 113m 18s\n",
            "\tTrain Loss: 5.976 | Train PPL: 394.049\n",
            "\t Val. Loss: 7.463 |  Val. PPL: 1741.996\n",
            "Epoch: 02 | Time: 113m 38s\n",
            "\tTrain Loss: 5.974 | Train PPL: 392.984\n",
            "\t Val. Loss: 7.097 |  Val. PPL: 1208.679\n",
            "Epoch: 03 | Time: 113m 3s\n",
            "\tTrain Loss: 5.974 | Train PPL: 392.958\n",
            "\t Val. Loss: 7.371 |  Val. PPL: 1589.321\n",
            "Epoch: 04 | Time: 112m 51s\n",
            "\tTrain Loss: 5.974 | Train PPL: 392.992\n",
            "\t Val. Loss: 7.209 |  Val. PPL: 1351.455\n",
            "Epoch: 05 | Time: 113m 25s\n",
            "\tTrain Loss: 5.946 | Train PPL: 382.207\n",
            "\t Val. Loss: 7.309 |  Val. PPL: 1494.259\n",
            "Epoch: 06 | Time: 113m 49s\n",
            "\tTrain Loss: 5.946 | Train PPL: 382.208\n",
            "\t Val. Loss: 7.269 |  Val. PPL: 1435.823\n"
          ],
          "name": "stdout"
        }
      ]
    },
    {
      "cell_type": "code",
      "metadata": {
        "id": "sc_fiFsUfz_W",
        "colab_type": "code",
        "outputId": "864c5655-fb94-4626-f504-6f7c5af896bf",
        "colab": {
          "base_uri": "https://localhost:8080/",
          "height": 312
        }
      },
      "source": [
        "plt.plot(np.arange(len(val_losses)), val_losses, np.arange((len(train_losses))), train_losses)\n",
        "plt.legend(['Validation Losses', 'Training Losses'])\n",
        "plt.title('Loss curves')\n",
        "plt.xlabel('Epoch')\n",
        "plt.ylabel('Loss')"
      ],
      "execution_count": 0,
      "outputs": [
        {
          "output_type": "execute_result",
          "data": {
            "text/plain": [
              "Text(0, 0.5, 'Loss')"
            ]
          },
          "metadata": {
            "tags": []
          },
          "execution_count": 38
        },
        {
          "output_type": "display_data",
          "data": {
            "image/png": "[encoded data removed]",
            "text/plain": [
              "<Figure size 432x288 with 1 Axes>"
            ]
          },
          "metadata": {
            "tags": []
          }
        }
      ]
    },
    {
      "cell_type": "markdown",
      "metadata": {
        "id": "zjgvdGSNg96q",
        "colab_type": "text"
      },
      "source": [
        "## ELMO"
      ]
    },
    {
      "cell_type": "code",
      "metadata": {
        "id": "U5_sLo5siE4y",
        "colab_type": "code",
        "colab": {}
      },
      "source": [
        "import tensorflow_hub as hub\n",
        "import tensorflow as tf\n",
        "\n",
        "elmo = hub.Module(\"https://tfhub.dev/google/elmo/2\", trainable=True)"
      ],
      "execution_count": 0,
      "outputs": []
    },
    {
      "cell_type": "code",
      "metadata": {
        "id": "jlD0PRv1iF4w",
        "colab_type": "code",
        "colab": {}
      },
      "source": [
        "def get_elmo_embedding(x):\n",
        "  # print(x)\n",
        "  batches = [x[i:i+batch_size] for i in range(0, len(x), batch_size)]\n",
        "\n",
        "  all_embeddings = np.zeros(1024)\n",
        "  count = 0\n",
        "  with sess.as_default():\n",
        "    for batch in batches:\n",
        "      embeddings = elmo(batch, signature=\"default\", as_dict=True)[\"elmo\"]\n",
        "      embeddings = tf.reduce_mean(embeddings, (0, 1)).eval()\n",
        "      all_embeddings = all_embeddings + embeddings\n",
        "      count += 1\n",
        "\n",
        "  return all_embeddings/count"
      ],
      "execution_count": 0,
      "outputs": []
    },
    {
      "cell_type": "code",
      "metadata": {
        "id": "9l95ivPJiLsu",
        "colab_type": "code",
        "colab": {}
      },
      "source": [
        "batch_size = 100"
      ],
      "execution_count": 0,
      "outputs": []
    },
    {
      "cell_type": "code",
      "metadata": {
        "id": "dRmpSgzwiMM1",
        "colab_type": "code",
        "colab": {}
      },
      "source": [
        "for year in years:\n",
        "  for n in all_neighbourhoodcounts[year]:  \n",
        "    print(n)\n",
        "\n",
        "    if flag == 1:\n",
        "      emb = get_elmo_embedding(all_neighbourhoodcounts[year][n])\n",
        "      name = str(DRIVE_PATH.joinpath(\"elmo/elmo{}_{}\".format(year, n.replace(\"/\", \"\"))))\n",
        "      np.save(name, emb)"
      ],
      "execution_count": 0,
      "outputs": []
    },
    {
      "cell_type": "code",
      "metadata": {
        "id": "WULD9qzeik7a",
        "colab_type": "code",
        "colab": {}
      },
      "source": [
        "elmo_reviews_2011 = {}\n",
        "elmo_reviews_2016 = {}\n",
        "\n",
        "for n in all_neighbourhoodcounts[2011]:  \n",
        "    name = str(DRIVE_PATH.joinpath(\"elmo/elmo2011_{}\".format(n.replace(\"/\", \"\"))))+'.npy'\n",
        "    elmo_reviews_2011[n] = np.load(name)\n",
        "\n",
        "for n in all_neighbourhoodcounts[2016]:  \n",
        "    name = str(DRIVE_PATH.joinpath(\"elmo/elmo2016_{}\".format(n.replace(\"/\", \"\"))))+'.npy'\n",
        "    elmo_reviews_2016[n] = np.load(name)\n",
        "\n",
        "reviews_2011 = pd.DataFrame(elmo_reviews_2011).T\n",
        "reviews_2011.sort_index(inplace=True)\n",
        "reviews_2011.to_csv(DRIVE_PATH.joinpath('elmo_reviews_2011.csv'))\n",
        "\n",
        "reviews_2016 = pd.DataFrame(elmo_reviews_2016).T\n",
        "reviews_2016.sort_index(inplace=True)\n",
        "reviews_2016.to_csv(DRIVE_PATH.joinpath('elmo_reviews_2016.csv'))"
      ],
      "execution_count": 0,
      "outputs": []
    }
  ]
}